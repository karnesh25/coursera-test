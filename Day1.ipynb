{
  "nbformat": 4,
  "nbformat_minor": 0,
  "metadata": {
    "colab": {
      "name": "Day1.ipynb",
      "provenance": [],
      "collapsed_sections": [],
      "authorship_tag": "ABX9TyMUPBC3/LGZl0SIqfeKFO2n",
      "include_colab_link": true
    },
    "kernelspec": {
      "name": "python3",
      "display_name": "Python 3"
    }
  },
  "cells": [
    {
      "cell_type": "markdown",
      "metadata": {
        "id": "view-in-github",
        "colab_type": "text"
      },
      "source": [
        "<a href=\"https://colab.research.google.com/github/karnesh25/coursera-test/blob/master/Day1.ipynb\" target=\"_parent\"><img src=\"https://colab.research.google.com/assets/colab-badge.svg\" alt=\"Open In Colab\"/></a>"
      ]
    },
    {
      "cell_type": "code",
      "metadata": {
        "colab": {
          "base_uri": "https://localhost:8080/"
        },
        "id": "U-RAe4moA63X",
        "outputId": "8fad010e-9706-446b-c732-6bd337f99351"
      },
      "source": [
        " lower = int(input(\"Enter lower range: \")) \n",
        " upper = int(input(\"Enter upper range: \"))   \n",
        " \n",
        " for num in range(lower,upper + 1):     \n",
        "  if num > 1:        \n",
        "    for i in range(2,num):     \n",
        "        if (num % i) == 0:                \n",
        "           break        \n",
        "    else:             \n",
        "      print(num)"
      ],
      "execution_count": null,
      "outputs": [
        {
          "output_type": "stream",
          "text": [
            "Enter lower range: 1\n",
            "Enter upper range: 50\n",
            "2\n",
            "3\n",
            "5\n",
            "7\n",
            "11\n",
            "13\n",
            "17\n",
            "19\n",
            "23\n",
            "29\n",
            "31\n",
            "37\n",
            "41\n",
            "43\n",
            "47\n"
          ],
          "name": "stdout"
        }
      ]
    },
    {
      "cell_type": "code",
      "metadata": {
        "colab": {
          "base_uri": "https://localhost:8080/"
        },
        "id": "2mMq--S0LGM7",
        "outputId": "a0b7d26d-82bb-4bc6-ffa5-2def5eed6f35"
      },
      "source": [
        " num = int(input(\"Enter a number: \")) \n",
        " factorial = 1\n",
        " if num < 0:    \n",
        "    print(\"Sorry, factorial does not exist for negative numbers\")  \n",
        " elif num == 0:   \n",
        "   print(\"The factorial of 0 is 1\") \n",
        " else:     \n",
        "   for i in range(1,num + 1):     \n",
        "      factorial = factorial*i  \n",
        "   print(\"The factorial of\",num,\"is\",factorial)"
      ],
      "execution_count": null,
      "outputs": [
        {
          "output_type": "stream",
          "text": [
            "Enter a number: 5\n",
            "The factorial of 5 is 120\n"
          ],
          "name": "stdout"
        }
      ]
    },
    {
      "cell_type": "code",
      "metadata": {
        "colab": {
          "base_uri": "https://localhost:8080/"
        },
        "id": "srozdoE1WgYA",
        "outputId": "37487f4e-62b3-45a1-8c62-b347a0f5f2d0"
      },
      "source": [
        "num = int(input(\"Enter a number: \"))  \r\n",
        "  \r\n",
        "if num < 0:  \r\n",
        "   print(\"Enter a positive number\")  \r\n",
        "else:  \r\n",
        "   sum = 0  \r\n",
        " \r\n",
        "   while(num > 0):  \r\n",
        "       sum += num  \r\n",
        "       num -= 1  \r\n",
        "   print(\"The sum is\",sum)"
      ],
      "execution_count": 1,
      "outputs": [
        {
          "output_type": "stream",
          "text": [
            "Enter a number: 100\n",
            "The sum is 5050\n"
          ],
          "name": "stdout"
        }
      ]
    }
  ]
}