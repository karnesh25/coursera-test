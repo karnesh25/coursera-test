{
  "nbformat": 4,
  "nbformat_minor": 0,
  "metadata": {
    "colab": {
      "name": "Day2.ipynb",
      "provenance": [],
      "collapsed_sections": [],
      "authorship_tag": "ABX9TyM58RgxsViYO9iQjoab50Vx",
      "include_colab_link": true
    },
    "kernelspec": {
      "name": "python3",
      "display_name": "Python 3"
    }
  },
  "cells": [
    {
      "cell_type": "markdown",
      "metadata": {
        "id": "view-in-github",
        "colab_type": "text"
      },
      "source": [
        "<a href=\"https://colab.research.google.com/github/karnesh25/coursera-test/blob/master/Day2.ipynb\" target=\"_parent\"><img src=\"https://colab.research.google.com/assets/colab-badge.svg\" alt=\"Open In Colab\"/></a>"
      ]
    },
    {
      "cell_type": "code",
      "metadata": {
        "colab": {
          "base_uri": "https://localhost:8080/"
        },
        "id": "c1AWgxIql_Hy",
        "outputId": "bc3e3a3c-9e6c-4acd-e616-c81822acb4bc"
      },
      "source": [
        "\r\n",
        "\r\n",
        "test_list = [5, 8, [], 2, [], [], 4] \r\n",
        "\r\n",
        "print(\"The original list is : \" + str(test_list)) \r\n",
        "\r\n",
        "res = [ele for ele in test_list if ele != []] \r\n",
        "\r\n",
        "print (\"List after empty list removal : \" + str(res)) \r\n"
      ],
      "execution_count": null,
      "outputs": [
        {
          "output_type": "stream",
          "text": [
            "The original list is : [5, 8, [], 2, [], [], 4]\n",
            "List after empty list removal : [5, 8, 2, 4]\n"
          ],
          "name": "stdout"
        }
      ]
    },
    {
      "cell_type": "code",
      "metadata": {
        "colab": {
          "base_uri": "https://localhost:8080/"
        },
        "id": "PhvTfb8RgPAI",
        "outputId": "30cd3ff1-eaa5-4a98-b20e-1eaaba66629e"
      },
      "source": [
        "from collections import Counter \r\n",
        "\r\n",
        "def remov_duplicates(input): \r\n",
        "\r\n",
        "\t\r\n",
        "\tinput = input.split(\" \") \r\n",
        "\r\n",
        "\r\n",
        "\tfor i in range(0, len(input)): \r\n",
        "\t\tinput[i] = \"\".join(input[i]) \r\n",
        "\r\n",
        "\r\n",
        "\tUniqW = Counter(input) \r\n",
        "\r\n",
        "\r\n",
        "\ts = \" \".join(UniqW.keys()) \r\n",
        "\tprint (s) \r\n",
        "\r\n",
        "\r\n",
        "if __name__ == \"__main__\": \r\n",
        "\tinput = 'Geeks for Geeks'\r\n",
        "\tremov_duplicates(input) \r\n"
      ],
      "execution_count": 9,
      "outputs": [
        {
          "output_type": "stream",
          "text": [
            "Geeks for\n"
          ],
          "name": "stdout"
        }
      ]
    },
    {
      "cell_type": "code",
      "metadata": {
        "colab": {
          "base_uri": "https://localhost:8080/"
        },
        "id": "yCkM96WGimha",
        "outputId": "ef287a89-a1be-45fc-b774-8ef06ee9ea9e"
      },
      "source": [
        "from collections import Counter \r\n",
        "\t\r\n",
        "in_str = \"blooddiamond\"\r\n",
        "\t\r\n",
        "oup = Counter(in_str) \r\n",
        "\t\r\n",
        "print (\"Occurrence of all characters in GeeksforGeeks is :\\n \"+ str(oup)) \r\n"
      ],
      "execution_count": 8,
      "outputs": [
        {
          "output_type": "stream",
          "text": [
            "Occurrence of all characters in GeeksforGeeks is :\n",
            " Counter({'o': 3, 'd': 3, 'b': 1, 'l': 1, 'i': 1, 'a': 1, 'm': 1, 'n': 1})\n"
          ],
          "name": "stdout"
        }
      ]
    }
  ]
}